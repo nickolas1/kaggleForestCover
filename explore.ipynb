{
 "metadata": {
  "name": "",
  "signature": "sha256:c04f45f80903cdd5e60dffc772951d5be6f1018b87292900fcbf9ac7cf53a7bc"
 },
 "nbformat": 3,
 "nbformat_minor": 0,
 "worksheets": [
  {
   "cells": [
    {
     "cell_type": "code",
     "collapsed": false,
     "input": [
      "from __future__ import division\n",
      "\n",
      "import pandas as pd\n",
      "import numpy as np\n",
      "from sklearn import ensemble\n",
      "from sklearn import svm\n",
      "from sklearn import neighbors\n",
      "from sklearn import cross_validation\n",
      "from sklearn import preprocessing\n",
      "from sklearn.grid_search import GridSearchCV"
     ],
     "language": "python",
     "metadata": {},
     "outputs": [],
     "prompt_number": 1
    },
    {
     "cell_type": "code",
     "collapsed": false,
     "input": [
      "trainFile = \"train.csv\"\n",
      "testFile = \"test.csv\"\n",
      "submissionFile = \"extra_tree_submission.csv\""
     ],
     "language": "python",
     "metadata": {},
     "outputs": [],
     "prompt_number": 2
    },
    {
     "cell_type": "code",
     "collapsed": false,
     "input": [
      "dfTrain = pd.read_csv(trainFile)\n",
      "dfTest = pd.read_csv(testFile)\n",
      "# shuffle the training data\n",
      "indices = dfTrain.index.values.copy()\n",
      "np.random.shuffle(indices)\n",
      "dfTrain = dfTrain.reindex(indices)"
     ],
     "language": "python",
     "metadata": {},
     "outputs": [],
     "prompt_number": 8
    },
    {
     "cell_type": "code",
     "collapsed": false,
     "input": [
      "features = [col for col in dfTrain.columns if col not in ['Cover_Type','Id']]"
     ],
     "language": "python",
     "metadata": {},
     "outputs": [],
     "prompt_number": 9
    },
    {
     "cell_type": "code",
     "collapsed": false,
     "input": [
      "xTrainFull = dfTrain[features]\n",
      "xTestFull = dfTest[features]\n",
      "yTrainFull = dfTrain['Cover_Type']"
     ],
     "language": "python",
     "metadata": {},
     "outputs": [],
     "prompt_number": 10
    },
    {
     "cell_type": "code",
     "collapsed": false,
     "input": [
      "xTrain, xTest, yTrain, yTest = cross_validation.train_test_split(\n",
      "    xTrainFull, yTrainFull, test_size=0.3, random_state=32)"
     ],
     "language": "python",
     "metadata": {},
     "outputs": [],
     "prompt_number": 27
    },
    {
     "cell_type": "code",
     "collapsed": false,
     "input": [
      "#use small number of estimators for parameter exploration\n",
      "exTree = ensemble.ExtraTreesClassifier(n_estimators = 256, \n",
      "                                       n_jobs = 1,\n",
      "                                       random_state=10)"
     ],
     "language": "python",
     "metadata": {},
     "outputs": [],
     "prompt_number": 60
    },
    {
     "cell_type": "code",
     "collapsed": false,
     "input": [
      "paramGrid = {\n",
      "    'max_features': [6,7,8,9,10,11,12,13],\n",
      "    #'bootstrap': [True,False],\n",
      "    'bootstrap': [False],\n",
      "    #'min_samples_split': [1,2,4] \n",
      "    'min_samples_split': [1]\n",
      "}\n",
      "grid = GridSearchCV(exTree, paramGrid, cv=4, n_jobs=-1)"
     ],
     "language": "python",
     "metadata": {},
     "outputs": [],
     "prompt_number": 71
    },
    {
     "cell_type": "code",
     "collapsed": false,
     "input": [
      "grid.fit(xTrainFull, yTrainFull)"
     ],
     "language": "python",
     "metadata": {},
     "outputs": [
      {
       "metadata": {},
       "output_type": "pyout",
       "prompt_number": 73,
       "text": [
        "GridSearchCV(cv=4,\n",
        "       estimator=ExtraTreesClassifier(bootstrap=False, compute_importances=None,\n",
        "           criterion='gini', max_depth=None, max_features='auto',\n",
        "           min_density=None, min_samples_leaf=1, min_samples_split=2,\n",
        "           n_estimators=256, n_jobs=1, oob_score=False, random_state=10,\n",
        "           verbose=0),\n",
        "       fit_params={}, iid=True, loss_func=None, n_jobs=-1,\n",
        "       param_grid={'max_features': [6, 7, 8, 9, 10, 11, 12, 13], 'min_samples_split': [1], 'bootstrap': [False]},\n",
        "       pre_dispatch='2*n_jobs', refit=True, score_func=None, scoring=None,\n",
        "       verbose=0)"
       ]
      }
     ],
     "prompt_number": 73
    },
    {
     "cell_type": "code",
     "collapsed": false,
     "input": [
      "grid.best_estimator_"
     ],
     "language": "python",
     "metadata": {},
     "outputs": [
      {
       "metadata": {},
       "output_type": "pyout",
       "prompt_number": 75,
       "text": [
        "ExtraTreesClassifier(bootstrap=False, compute_importances=None,\n",
        "           criterion='gini', max_depth=None, max_features=11,\n",
        "           min_density=None, min_samples_leaf=1, min_samples_split=1,\n",
        "           n_estimators=256, n_jobs=1, oob_score=False, random_state=10,\n",
        "           verbose=0)"
       ]
      }
     ],
     "prompt_number": 75
    },
    {
     "cell_type": "code",
     "collapsed": false,
     "input": [
      "grid.grid_scores_"
     ],
     "language": "python",
     "metadata": {},
     "outputs": [
      {
       "metadata": {},
       "output_type": "pyout",
       "prompt_number": 74,
       "text": [
        "[mean: 0.88122, std: 0.00497, params: {'max_features': 6, 'min_samples_split': 1, 'bootstrap': False},\n",
        " mean: 0.88280, std: 0.00371, params: {'max_features': 7, 'min_samples_split': 1, 'bootstrap': False},\n",
        " mean: 0.88188, std: 0.00550, params: {'max_features': 8, 'min_samples_split': 1, 'bootstrap': False},\n",
        " mean: 0.88234, std: 0.00455, params: {'max_features': 9, 'min_samples_split': 1, 'bootstrap': False},\n",
        " mean: 0.88426, std: 0.00486, params: {'max_features': 10, 'min_samples_split': 1, 'bootstrap': False},\n",
        " mean: 0.88439, std: 0.00504, params: {'max_features': 11, 'min_samples_split': 1, 'bootstrap': False},\n",
        " mean: 0.88413, std: 0.00469, params: {'max_features': 12, 'min_samples_split': 1, 'bootstrap': False},\n",
        " mean: 0.88393, std: 0.00534, params: {'max_features': 13, 'min_samples_split': 1, 'bootstrap': False}]"
       ]
      }
     ],
     "prompt_number": 74
    },
    {
     "cell_type": "code",
     "collapsed": false,
     "input": [
      "# find a point of dimishing returns for n_estimators\n",
      "# need bootstrap=True for this\n",
      "oobs = []\n",
      "for i in xrange(3,13):\n",
      "    this_n = 2**i\n",
      "    print ('finding oob score for n_estimators = %d' % this_n)\n",
      "    exTree = ensemble.ExtraTreesClassifier(n_estimators = this_n, \n",
      "                                       max_features=11,\n",
      "                                       min_samples_split=1,\n",
      "                                       n_jobs = 1,\n",
      "                                       bootstrap=True,\n",
      "                                       oob_score=True,\n",
      "                                       random_state=10)\n",
      "    exTree.fit(xTrainFull,yTrainFull)\n",
      "    print exTree.oob_score_\n",
      "    oobs.append(exTree.oob_score_)\n",
      "print oobs"
     ],
     "language": "python",
     "metadata": {},
     "outputs": [
      {
       "output_type": "stream",
       "stream": "stdout",
       "text": [
        "finding oob score for n_estimators = 8\n",
        "0.0520502645503"
       ]
      },
      {
       "output_type": "stream",
       "stream": "stdout",
       "text": [
        "\n",
        "finding oob score for n_estimators = 16\n",
        "0.0385582010582"
       ]
      },
      {
       "output_type": "stream",
       "stream": "stdout",
       "text": [
        "\n",
        "finding oob score for n_estimators = 32\n",
        "0.0310185185185"
       ]
      },
      {
       "output_type": "stream",
       "stream": "stdout",
       "text": [
        "\n",
        "finding oob score for n_estimators = 64\n",
        "0.0289021164021"
       ]
      },
      {
       "output_type": "stream",
       "stream": "stdout",
       "text": [
        "\n",
        "finding oob score for n_estimators = 128\n",
        "0.0255291005291"
       ]
      },
      {
       "output_type": "stream",
       "stream": "stdout",
       "text": [
        "\n",
        "finding oob score for n_estimators = 256\n",
        "0.0253306878307"
       ]
      },
      {
       "output_type": "stream",
       "stream": "stdout",
       "text": [
        "\n",
        "finding oob score for n_estimators = 512\n",
        "0.0248015873016"
       ]
      },
      {
       "output_type": "stream",
       "stream": "stdout",
       "text": [
        "\n",
        "finding oob score for n_estimators = 1024\n",
        "0.0242063492063"
       ]
      },
      {
       "output_type": "stream",
       "stream": "stdout",
       "text": [
        "\n",
        "finding oob score for n_estimators = 2048\n",
        "0.0244047619048"
       ]
      },
      {
       "output_type": "stream",
       "stream": "stdout",
       "text": [
        "\n",
        "finding oob score for n_estimators = 4096\n",
        "0.0236111111111"
       ]
      },
      {
       "output_type": "stream",
       "stream": "stdout",
       "text": [
        "\n",
        "[0.052050264550264548, 0.038558201058201055, 0.031018518518518518, 0.028902116402116401, 0.02552910052910053, 0.025330687830687832, 0.0248015873015873, 0.024206349206349207, 0.024404761904761905, 0.02361111111111111]\n"
       ]
      },
      {
       "output_type": "stream",
       "stream": "stderr",
       "text": [
        "/usr/local/lib/python2.7/site-packages/sklearn/ensemble/forest.py:397: UserWarning: Some inputs do not have OOB scores. This probably means too few trees were used to compute any reliable oob estimates.\n",
        "  warn(\"Some inputs do not have OOB scores. \"\n"
       ]
      }
     ],
     "prompt_number": 76
    },
    {
     "cell_type": "code",
     "collapsed": false,
     "input": [
      "# go for 8096 for final submission\n",
      "exTree = ensemble.ExtraTreesClassifier(n_estimators = 8096, \n",
      "                                       max_features=11,\n",
      "                                       min_samples_split=1,\n",
      "                                       n_jobs = 1,\n",
      "                                       random_state=10)"
     ],
     "language": "python",
     "metadata": {},
     "outputs": [],
     "prompt_number": 77
    },
    {
     "cell_type": "code",
     "collapsed": false,
     "input": [
      "#scores = cross_validation.cross_val_score(exTree, xTrain, yTrain, cv=8)\n",
      "#print('%0.3f +/- %0.3f' % (scores.mean(), 2*scores.std()))\n",
      "\n",
      "exTree.fit(xTrainFull,yTrainFull)"
     ],
     "language": "python",
     "metadata": {},
     "outputs": [
      {
       "metadata": {},
       "output_type": "pyout",
       "prompt_number": 78,
       "text": [
        "ExtraTreesClassifier(bootstrap=False, compute_importances=None,\n",
        "           criterion='gini', max_depth=None, max_features=11,\n",
        "           min_density=None, min_samples_leaf=1, min_samples_split=1,\n",
        "           n_estimators=8096, n_jobs=1, oob_score=False, random_state=10,\n",
        "           verbose=0)"
       ]
      }
     ],
     "prompt_number": 78
    },
    {
     "cell_type": "code",
     "collapsed": false,
     "input": [
      "predictions = exTree.predict(xTestFull)"
     ],
     "language": "python",
     "metadata": {},
     "outputs": [],
     "prompt_number": 79
    },
    {
     "cell_type": "code",
     "collapsed": false,
     "input": [
      "outfile = open(submissionFile, 'w')\n",
      "outfile.write('Id,Cover_Type\\n')\n",
      "for i in xrange(len(predictions)):\n",
      "    outfile.write('%d,%d\\n' % (dfTest['Id'][i], predictions[i]))\n",
      "outfile.close()"
     ],
     "language": "python",
     "metadata": {},
     "outputs": [],
     "prompt_number": 80
    },
    {
     "cell_type": "code",
     "collapsed": false,
     "input": [
      "pd.tools.pivot.pivot_table(dfTrain, \n",
      "                                   values='Id',\n",
      "                                   rows=['Wilderness_Area1'], \n",
      "                                   cols=['Cover_Type'],\n",
      "                                   aggfunc=np.count_nonzero\n",
      "                                )"
     ],
     "language": "python",
     "metadata": {},
     "outputs": [
      {
       "html": [
        "<div style=\"max-height:1000px;max-width:1500px;overflow:auto;\">\n",
        "<table border=\"1\" class=\"dataframe\">\n",
        "  <thead>\n",
        "    <tr style=\"text-align: right;\">\n",
        "      <th>Cover_Type</th>\n",
        "      <th>1</th>\n",
        "      <th>2</th>\n",
        "      <th>3</th>\n",
        "      <th>4</th>\n",
        "      <th>5</th>\n",
        "      <th>6</th>\n",
        "      <th>7</th>\n",
        "    </tr>\n",
        "    <tr>\n",
        "      <th>Wilderness_Area1</th>\n",
        "      <th></th>\n",
        "      <th></th>\n",
        "      <th></th>\n",
        "      <th></th>\n",
        "      <th></th>\n",
        "      <th></th>\n",
        "      <th></th>\n",
        "    </tr>\n",
        "  </thead>\n",
        "  <tbody>\n",
        "    <tr>\n",
        "      <th>0</th>\n",
        "      <td> 1098</td>\n",
        "      <td> 1026</td>\n",
        "      <td> 2160</td>\n",
        "      <td> 2160</td>\n",
        "      <td> 1304</td>\n",
        "      <td> 2160</td>\n",
        "      <td> 1615</td>\n",
        "    </tr>\n",
        "    <tr>\n",
        "      <th>1</th>\n",
        "      <td> 1062</td>\n",
        "      <td> 1134</td>\n",
        "      <td>  NaN</td>\n",
        "      <td>  NaN</td>\n",
        "      <td>  856</td>\n",
        "      <td>  NaN</td>\n",
        "      <td>  545</td>\n",
        "    </tr>\n",
        "  </tbody>\n",
        "</table>\n",
        "<p>2 rows \u00d7 7 columns</p>\n",
        "</div>"
       ],
       "metadata": {},
       "output_type": "pyout",
       "prompt_number": 62,
       "text": [
        "Cover_Type           1     2     3     4     5     6     7\n",
        "Wilderness_Area1                                          \n",
        "0                 1098  1026  2160  2160  1304  2160  1615\n",
        "1                 1062  1134   NaN   NaN   856   NaN   545\n",
        "\n",
        "[2 rows x 7 columns]"
       ]
      }
     ],
     "prompt_number": 62
    },
    {
     "cell_type": "code",
     "collapsed": false,
     "input": [
      "pd.tools.pivot.pivot_table(dfTrain, \n",
      "                                   values='Id',\n",
      "                                   rows=['Wilderness_Area2'], \n",
      "                                   cols=['Cover_Type'],\n",
      "                                   aggfunc=np.count_nonzero\n",
      "                                )"
     ],
     "language": "python",
     "metadata": {},
     "outputs": [
      {
       "html": [
        "<div style=\"max-height:1000px;max-width:1500px;overflow:auto;\">\n",
        "<table border=\"1\" class=\"dataframe\">\n",
        "  <thead>\n",
        "    <tr style=\"text-align: right;\">\n",
        "      <th>Cover_Type</th>\n",
        "      <th>1</th>\n",
        "      <th>2</th>\n",
        "      <th>3</th>\n",
        "      <th>4</th>\n",
        "      <th>5</th>\n",
        "      <th>6</th>\n",
        "      <th>7</th>\n",
        "    </tr>\n",
        "    <tr>\n",
        "      <th>Wilderness_Area2</th>\n",
        "      <th></th>\n",
        "      <th></th>\n",
        "      <th></th>\n",
        "      <th></th>\n",
        "      <th></th>\n",
        "      <th></th>\n",
        "      <th></th>\n",
        "    </tr>\n",
        "  </thead>\n",
        "  <tbody>\n",
        "    <tr>\n",
        "      <th>0</th>\n",
        "      <td> 1979</td>\n",
        "      <td> 2094</td>\n",
        "      <td> 2160</td>\n",
        "      <td> 2160</td>\n",
        "      <td> 2160</td>\n",
        "      <td> 2160</td>\n",
        "      <td> 1908</td>\n",
        "    </tr>\n",
        "    <tr>\n",
        "      <th>1</th>\n",
        "      <td>  181</td>\n",
        "      <td>   66</td>\n",
        "      <td>  NaN</td>\n",
        "      <td>  NaN</td>\n",
        "      <td>  NaN</td>\n",
        "      <td>  NaN</td>\n",
        "      <td>  252</td>\n",
        "    </tr>\n",
        "  </tbody>\n",
        "</table>\n",
        "<p>2 rows \u00d7 7 columns</p>\n",
        "</div>"
       ],
       "metadata": {},
       "output_type": "pyout",
       "prompt_number": 63,
       "text": [
        "Cover_Type           1     2     3     4     5     6     7\n",
        "Wilderness_Area2                                          \n",
        "0                 1979  2094  2160  2160  2160  2160  1908\n",
        "1                  181    66   NaN   NaN   NaN   NaN   252\n",
        "\n",
        "[2 rows x 7 columns]"
       ]
      }
     ],
     "prompt_number": 63
    },
    {
     "cell_type": "code",
     "collapsed": false,
     "input": [
      "pd.tools.pivot.pivot_table(dfTrain, \n",
      "                                   values='Id',\n",
      "                                   rows=['Wilderness_Area3'], \n",
      "                                   cols=['Cover_Type'],\n",
      "                                   aggfunc=np.count_nonzero\n",
      "                                )"
     ],
     "language": "python",
     "metadata": {},
     "outputs": [
      {
       "html": [
        "<div style=\"max-height:1000px;max-width:1500px;overflow:auto;\">\n",
        "<table border=\"1\" class=\"dataframe\">\n",
        "  <thead>\n",
        "    <tr style=\"text-align: right;\">\n",
        "      <th>Cover_Type</th>\n",
        "      <th>1</th>\n",
        "      <th>2</th>\n",
        "      <th>3</th>\n",
        "      <th>4</th>\n",
        "      <th>5</th>\n",
        "      <th>6</th>\n",
        "      <th>7</th>\n",
        "    </tr>\n",
        "    <tr>\n",
        "      <th>Wilderness_Area3</th>\n",
        "      <th></th>\n",
        "      <th></th>\n",
        "      <th></th>\n",
        "      <th></th>\n",
        "      <th></th>\n",
        "      <th></th>\n",
        "      <th></th>\n",
        "    </tr>\n",
        "  </thead>\n",
        "  <tbody>\n",
        "    <tr>\n",
        "      <th>0</th>\n",
        "      <td> 1243</td>\n",
        "      <td> 1220</td>\n",
        "      <td> 1297</td>\n",
        "      <td> 2160</td>\n",
        "      <td>  856</td>\n",
        "      <td> 1198</td>\n",
        "      <td>  797</td>\n",
        "    </tr>\n",
        "    <tr>\n",
        "      <th>1</th>\n",
        "      <td>  917</td>\n",
        "      <td>  940</td>\n",
        "      <td>  863</td>\n",
        "      <td>  NaN</td>\n",
        "      <td> 1304</td>\n",
        "      <td>  962</td>\n",
        "      <td> 1363</td>\n",
        "    </tr>\n",
        "  </tbody>\n",
        "</table>\n",
        "<p>2 rows \u00d7 7 columns</p>\n",
        "</div>"
       ],
       "metadata": {},
       "output_type": "pyout",
       "prompt_number": 64,
       "text": [
        "Cover_Type           1     2     3     4     5     6     7\n",
        "Wilderness_Area3                                          \n",
        "0                 1243  1220  1297  2160   856  1198   797\n",
        "1                  917   940   863   NaN  1304   962  1363\n",
        "\n",
        "[2 rows x 7 columns]"
       ]
      }
     ],
     "prompt_number": 64
    },
    {
     "cell_type": "code",
     "collapsed": false,
     "input": [
      "pd.tools.pivot.pivot_table(dfTrain, \n",
      "                                   values='Id',\n",
      "                                   rows=['Wilderness_Area4'], \n",
      "                                   cols=['Cover_Type'],\n",
      "                                   aggfunc=np.count_nonzero\n",
      "                                )"
     ],
     "language": "python",
     "metadata": {},
     "outputs": [
      {
       "html": [
        "<div style=\"max-height:1000px;max-width:1500px;overflow:auto;\">\n",
        "<table border=\"1\" class=\"dataframe\">\n",
        "  <thead>\n",
        "    <tr style=\"text-align: right;\">\n",
        "      <th>Cover_Type</th>\n",
        "      <th>1</th>\n",
        "      <th>2</th>\n",
        "      <th>3</th>\n",
        "      <th>4</th>\n",
        "      <th>5</th>\n",
        "      <th>6</th>\n",
        "      <th>7</th>\n",
        "    </tr>\n",
        "    <tr>\n",
        "      <th>Wilderness_Area4</th>\n",
        "      <th></th>\n",
        "      <th></th>\n",
        "      <th></th>\n",
        "      <th></th>\n",
        "      <th></th>\n",
        "      <th></th>\n",
        "      <th></th>\n",
        "    </tr>\n",
        "  </thead>\n",
        "  <tbody>\n",
        "    <tr>\n",
        "      <th>0</th>\n",
        "      <td> 2160</td>\n",
        "      <td> 2140</td>\n",
        "      <td>  863</td>\n",
        "      <td>  NaN</td>\n",
        "      <td> 2160</td>\n",
        "      <td>  962</td>\n",
        "      <td> 2160</td>\n",
        "    </tr>\n",
        "    <tr>\n",
        "      <th>1</th>\n",
        "      <td>  NaN</td>\n",
        "      <td>   20</td>\n",
        "      <td> 1297</td>\n",
        "      <td> 2160</td>\n",
        "      <td>  NaN</td>\n",
        "      <td> 1198</td>\n",
        "      <td>  NaN</td>\n",
        "    </tr>\n",
        "  </tbody>\n",
        "</table>\n",
        "<p>2 rows \u00d7 7 columns</p>\n",
        "</div>"
       ],
       "metadata": {},
       "output_type": "pyout",
       "prompt_number": 65,
       "text": [
        "Cover_Type           1     2     3     4     5     6     7\n",
        "Wilderness_Area4                                          \n",
        "0                 2160  2140   863   NaN  2160   962  2160\n",
        "1                  NaN    20  1297  2160   NaN  1198   NaN\n",
        "\n",
        "[2 rows x 7 columns]"
       ]
      }
     ],
     "prompt_number": 65
    },
    {
     "cell_type": "code",
     "collapsed": false,
     "input": [
      "importances = exTree.feature_importances_\n",
      "indices = np.argsort(importances)[::-1]\n",
      "for f in range(40):\n",
      "    print(\"%d. %s (%f)\" % (f + 1, features[indices[f]], importances[indices[f]]))"
     ],
     "language": "python",
     "metadata": {},
     "outputs": [
      {
       "output_type": "stream",
       "stream": "stdout",
       "text": [
        "1. Elevation (0.194537)\n",
        "2. Horizontal_Distance_To_Roadways (0.087747)\n",
        "3. Horizontal_Distance_To_Fire_Points (0.073015)\n",
        "4. Wilderness_Area4 (0.067472)\n",
        "5. Horizontal_Distance_To_Hydrology (0.059666)\n",
        "6. Vertical_Distance_To_Hydrology (0.046158)\n",
        "7. Aspect (0.040221)\n",
        "8. Hillshade_9am (0.040104)\n",
        "9. Hillshade_Noon (0.035673)\n",
        "10. Hillshade_3pm (0.033021)\n",
        "11. Soil_Type10 (0.031477)\n",
        "12. Slope (0.030501)\n",
        "13. Soil_Type38 (0.027885)\n",
        "14. Soil_Type39 (0.024375)\n",
        "15. Soil_Type3 (0.024263)\n",
        "16. Wilderness_Area3 (0.019460)\n",
        "17. Soil_Type4 (0.017949)\n",
        "18. Wilderness_Area1 (0.015804)\n",
        "19. Soil_Type40 (0.015721)\n",
        "20. Soil_Type30 (0.012805)\n",
        "21. Soil_Type2 (0.010250)\n",
        "22. Soil_Type17 (0.009845)\n",
        "23. Soil_Type13 (0.007855)\n",
        "24. Soil_Type22 (0.007754)\n",
        "25. Soil_Type29 (0.006532)\n",
        "26. Soil_Type23 (0.006519)\n",
        "27. Soil_Type12 (0.006209)\n",
        "28. Soil_Type32 (0.005144)\n",
        "29. Soil_Type11 (0.004482)\n",
        "30. Soil_Type6 (0.004411)\n",
        "31. Soil_Type35 (0.004356)\n",
        "32. Soil_Type33 (0.004028)\n",
        "33. Wilderness_Area2 (0.003807)\n",
        "34. Soil_Type24 (0.003300)\n",
        "35. Soil_Type31 (0.003225)\n",
        "36. Soil_Type20 (0.002087)\n",
        "37. Soil_Type1 (0.001978)\n",
        "38. Soil_Type14 (0.001801)\n",
        "39. Soil_Type5 (0.001701)\n",
        "40. Soil_Type16 (0.001591)\n"
       ]
      }
     ],
     "prompt_number": 35
    },
    {
     "cell_type": "code",
     "collapsed": false,
     "input": [
      "goodFeatures = []\n",
      "weights=[]\n",
      "nfeat=20\n",
      "for f in xrange(nfeat):\n",
      "    goodFeatures.append(features[indices[f]])\n",
      "    weights.append(importances[indices[f]])\n",
      "weights = np.array(weights)/np.max(weights)\n",
      "print goodFeatures\n",
      "print weights"
     ],
     "language": "python",
     "metadata": {},
     "outputs": [
      {
       "output_type": "stream",
       "stream": "stdout",
       "text": [
        "['Elevation', 'Horizontal_Distance_To_Roadways', 'Horizontal_Distance_To_Fire_Points', 'Wilderness_Area4', 'Horizontal_Distance_To_Hydrology', 'Vertical_Distance_To_Hydrology', 'Aspect', 'Hillshade_9am', 'Hillshade_Noon', 'Hillshade_3pm', 'Soil_Type10', 'Slope', 'Soil_Type38', 'Soil_Type39', 'Soil_Type3', 'Wilderness_Area3', 'Soil_Type4', 'Wilderness_Area1', 'Soil_Type40', 'Soil_Type30']\n",
        "[ 1.          0.45105458  0.3753272   0.34683179  0.30670685  0.23727215\n",
        "  0.20675285  0.20615265  0.18337391  0.1697428   0.16180646  0.15678571\n",
        "  0.14334272  0.12529825  0.12472096  0.10003351  0.09226667  0.08123763\n",
        "  0.08081014  0.06582069]\n"
       ]
      }
     ],
     "prompt_number": 36
    },
    {
     "cell_type": "code",
     "collapsed": false,
     "input": [
      "xTrain, xTest, yTrain, yTest = cross_validation.train_test_split(\n",
      "    xTrainFull, yTrainFull, test_size=0.3, random_state=32)"
     ],
     "language": "python",
     "metadata": {},
     "outputs": [],
     "prompt_number": 12
    },
    {
     "cell_type": "code",
     "collapsed": false,
     "input": [
      "# go for 8096 for final submission\n",
      "exTree = ensemble.ExtraTreesClassifier(n_estimators = 256, \n",
      "                                       max_features=11,\n",
      "                                       min_samples_split=1,\n",
      "                                       n_jobs = 1,\n",
      "                                       random_state=10)"
     ],
     "language": "python",
     "metadata": {},
     "outputs": [],
     "prompt_number": 13
    },
    {
     "cell_type": "code",
     "collapsed": false,
     "input": [
      "exTree.fit(xTrain, yTrain)"
     ],
     "language": "python",
     "metadata": {},
     "outputs": [
      {
       "metadata": {},
       "output_type": "pyout",
       "prompt_number": 16,
       "text": [
        "ExtraTreesClassifier(bootstrap=False, compute_importances=None,\n",
        "           criterion='gini', max_depth=None, max_features=11,\n",
        "           min_density=None, min_samples_leaf=1, min_samples_split=1,\n",
        "           n_estimators=256, n_jobs=1, oob_score=False, random_state=10,\n",
        "           verbose=0)"
       ]
      }
     ],
     "prompt_number": 16
    },
    {
     "cell_type": "code",
     "collapsed": false,
     "input": [
      "exTree.score(xTest,yTest)"
     ],
     "language": "python",
     "metadata": {},
     "outputs": [
      {
       "metadata": {},
       "output_type": "pyout",
       "prompt_number": 17,
       "text": [
        "0.8835978835978836"
       ]
      }
     ],
     "prompt_number": 17
    },
    {
     "cell_type": "code",
     "collapsed": false,
     "input": [
      "def accByArea(clf,xTest,yTest):\n",
      "    for i in xrange(1,5):\n",
      "        idx = i+9\n",
      "        sel = xTest[:,idx]==1\n",
      "        score = clf.score(xTest[sel], yTest[sel])\n",
      "        print ('area %d: %f' % (i, score))"
     ],
     "language": "python",
     "metadata": {},
     "outputs": [],
     "prompt_number": 18
    },
    {
     "cell_type": "code",
     "collapsed": false,
     "input": [
      "accByArea(exTree,xTest,yTest)"
     ],
     "language": "python",
     "metadata": {},
     "outputs": [
      {
       "output_type": "stream",
       "stream": "stdout",
       "text": [
        "area 1: 0.876122\n",
        "area 2: 0.862069\n",
        "area 3: 0.874732"
       ]
      },
      {
       "output_type": "stream",
       "stream": "stdout",
       "text": [
        "\n",
        "area 4: 0.903478"
       ]
      },
      {
       "output_type": "stream",
       "stream": "stdout",
       "text": [
        "\n"
       ]
      }
     ],
     "prompt_number": 19
    },
    {
     "cell_type": "code",
     "collapsed": false,
     "input": [
      "pred = exTree.predict(xTest)"
     ],
     "language": "python",
     "metadata": {},
     "outputs": [],
     "prompt_number": 20
    },
    {
     "cell_type": "code",
     "collapsed": false,
     "input": [
      "bad = xTest[pred != yTest]\n",
      "good = xTest[pred == yTest]"
     ],
     "language": "python",
     "metadata": {},
     "outputs": [],
     "prompt_number": 25
    },
    {
     "cell_type": "code",
     "collapsed": false,
     "input": [
      "np.mean(bad,0)"
     ],
     "language": "python",
     "metadata": {},
     "outputs": [
      {
       "metadata": {},
       "output_type": "pyout",
       "prompt_number": 33,
       "text": [
        "array([  2.76901326e+03,   1.56950758e+02,   1.49053030e+01,\n",
        "         2.18346591e+02,   4.20852273e+01,   1.83484848e+03,\n",
        "         2.10926136e+02,   2.19810606e+02,   1.39979167e+02,\n",
        "         1.58611932e+03,   2.61363636e-01,   3.78787879e-02,\n",
        "         4.43181818e-01,   2.57575758e-01,   1.51515152e-02,\n",
        "         4.16666667e-02,   1.70454545e-02,   5.11363636e-02,\n",
        "         1.13636364e-02,   5.49242424e-02,   0.00000000e+00,\n",
        "         0.00000000e+00,   0.00000000e+00,   1.62878788e-01,\n",
        "         4.92424242e-02,   1.89393939e-02,   2.08333333e-02,\n",
        "         3.78787879e-03,   0.00000000e+00,   7.57575758e-03,\n",
        "         2.27272727e-02,   1.89393939e-03,   1.89393939e-03,\n",
        "         9.46969697e-03,   3.78787879e-03,   2.65151515e-02,\n",
        "         5.49242424e-02,   3.40909091e-02,   0.00000000e+00,\n",
        "         0.00000000e+00,   3.78787879e-03,   3.78787879e-03,\n",
        "         1.42045455e-01,   4.16666667e-02,   2.46212121e-02,\n",
        "         7.38636364e-02,   5.11363636e-02,   5.68181818e-03,\n",
        "         1.89393939e-03,   0.00000000e+00,   0.00000000e+00,\n",
        "         9.46969697e-03,   1.89393939e-02,   1.32575758e-02])"
       ]
      }
     ],
     "prompt_number": 33
    },
    {
     "cell_type": "code",
     "collapsed": false,
     "input": [
      "np.mean(good,0)"
     ],
     "language": "python",
     "metadata": {},
     "outputs": [
      {
       "metadata": {},
       "output_type": "pyout",
       "prompt_number": 35,
       "text": [
        "array([  2.74639770e+03,   1.55651946e+02,   1.67634731e+01,\n",
        "         2.27385978e+02,   5.21589321e+01,   1.68241542e+03,\n",
        "         2.13437375e+02,   2.18267465e+02,   1.33273204e+02,\n",
        "         1.50100499e+03,   2.43512974e-01,   3.11876248e-02,\n",
        "         4.07684631e-01,   3.17614770e-01,   2.42015968e-02,\n",
        "         4.34131737e-02,   7.46007984e-02,   5.38922156e-02,\n",
        "         1.22255489e-02,   3.84231537e-02,   0.00000000e+00,\n",
        "         0.00000000e+00,   4.99001996e-04,   1.36227545e-01,\n",
        "         2.32035928e-02,   1.84630739e-02,   3.09381238e-02,\n",
        "         1.12275449e-02,   0.00000000e+00,   6.23752495e-03,\n",
        "         3.96706587e-02,   4.74051896e-03,   4.49101796e-03,\n",
        "         7.48502994e-03,   9.98003992e-04,   2.29540918e-02,\n",
        "         4.81536926e-02,   1.44710579e-02,   2.49500998e-04,\n",
        "         3.24351297e-03,   4.99001996e-04,   7.48502994e-04,\n",
        "         8.05888224e-02,   5.11477046e-02,   2.17065868e-02,\n",
        "         4.16666667e-02,   3.54291417e-02,   1.24750499e-03,\n",
        "         8.23353293e-03,   9.98003992e-04,   2.49500998e-03,\n",
        "         5.63872255e-02,   4.79041916e-02,   3.09381238e-02])"
       ]
      }
     ],
     "prompt_number": 35
    },
    {
     "cell_type": "code",
     "collapsed": false,
     "input": [
      "import matplotlib.pyplot as plt\n",
      "%matplotlib inline"
     ],
     "language": "python",
     "metadata": {},
     "outputs": [],
     "prompt_number": 38
    },
    {
     "cell_type": "code",
     "collapsed": false,
     "input": [
      "plt.scatter(np.mean(bad,0),np.mean(bad,0)/np.mean(good,0))\n",
      "#plt.plot(np.median(good,0),np.median(good,0))"
     ],
     "language": "python",
     "metadata": {},
     "outputs": [
      {
       "metadata": {},
       "output_type": "pyout",
       "prompt_number": 55,
       "text": [
        "<matplotlib.collections.PathCollection at 0x10eba6710>"
       ]
      },
      {
       "metadata": {},
       "output_type": "display_data",
       "png": "[encoded data removed]",
       "text": [
        "<matplotlib.figure.Figure at 0x10eb06c90>"
       ]
      }
     ],
     "prompt_number": 55
    },
    {
     "cell_type": "code",
     "collapsed": false,
     "input": [
      "dfTrain.describe()"
     ],
     "language": "python",
     "metadata": {},
     "outputs": [
      {
       "html": [
        "<div style=\"max-height:1000px;max-width:1500px;overflow:auto;\">\n",
        "<table border=\"1\" class=\"dataframe\">\n",
        "  <thead>\n",
        "    <tr style=\"text-align: right;\">\n",
        "      <th></th>\n",
        "      <th>Id</th>\n",
        "      <th>Elevation</th>\n",
        "      <th>Aspect</th>\n",
        "      <th>Slope</th>\n",
        "      <th>Horizontal_Distance_To_Hydrology</th>\n",
        "      <th>Vertical_Distance_To_Hydrology</th>\n",
        "      <th>Horizontal_Distance_To_Roadways</th>\n",
        "      <th>Hillshade_9am</th>\n",
        "      <th>Hillshade_Noon</th>\n",
        "      <th>Hillshade_3pm</th>\n",
        "      <th>Horizontal_Distance_To_Fire_Points</th>\n",
        "      <th>Wilderness_Area1</th>\n",
        "      <th>Wilderness_Area2</th>\n",
        "      <th>Wilderness_Area3</th>\n",
        "      <th>Wilderness_Area4</th>\n",
        "      <th>Soil_Type1</th>\n",
        "      <th>Soil_Type2</th>\n",
        "      <th>Soil_Type3</th>\n",
        "      <th>Soil_Type4</th>\n",
        "      <th>Soil_Type5</th>\n",
        "      <th></th>\n",
        "    </tr>\n",
        "  </thead>\n",
        "  <tbody>\n",
        "    <tr>\n",
        "      <th>count</th>\n",
        "      <td> 15120.00000</td>\n",
        "      <td> 15120.000000</td>\n",
        "      <td> 15120.000000</td>\n",
        "      <td> 15120.000000</td>\n",
        "      <td> 15120.000000</td>\n",
        "      <td> 15120.000000</td>\n",
        "      <td> 15120.000000</td>\n",
        "      <td> 15120.000000</td>\n",
        "      <td> 15120.000000</td>\n",
        "      <td> 15120.000000</td>\n",
        "      <td> 15120.000000</td>\n",
        "      <td> 15120.000000</td>\n",
        "      <td> 15120.000000</td>\n",
        "      <td> 15120.000000</td>\n",
        "      <td> 15120.000000</td>\n",
        "      <td> 15120.000000</td>\n",
        "      <td> 15120.000000</td>\n",
        "      <td> 15120.000000</td>\n",
        "      <td> 15120.000000</td>\n",
        "      <td> 15120.000000</td>\n",
        "      <td>...</td>\n",
        "    </tr>\n",
        "    <tr>\n",
        "      <th>mean</th>\n",
        "      <td>  7560.50000</td>\n",
        "      <td>  2749.322553</td>\n",
        "      <td>   156.676653</td>\n",
        "      <td>    16.501587</td>\n",
        "      <td>   227.195701</td>\n",
        "      <td>    51.076521</td>\n",
        "      <td>  1714.023214</td>\n",
        "      <td>   212.704299</td>\n",
        "      <td>   218.965608</td>\n",
        "      <td>   135.091997</td>\n",
        "      <td>  1511.147288</td>\n",
        "      <td>     0.237897</td>\n",
        "      <td>     0.033003</td>\n",
        "      <td>     0.419907</td>\n",
        "      <td>     0.309193</td>\n",
        "      <td>     0.023479</td>\n",
        "      <td>     0.041204</td>\n",
        "      <td>     0.063624</td>\n",
        "      <td>     0.055754</td>\n",
        "      <td>     0.010913</td>\n",
        "      <td>...</td>\n",
        "    </tr>\n",
        "    <tr>\n",
        "      <th>std</th>\n",
        "      <td>  4364.91237</td>\n",
        "      <td>   417.678187</td>\n",
        "      <td>   110.085801</td>\n",
        "      <td>     8.453927</td>\n",
        "      <td>   210.075296</td>\n",
        "      <td>    61.239406</td>\n",
        "      <td>  1325.066358</td>\n",
        "      <td>    30.561287</td>\n",
        "      <td>    22.801966</td>\n",
        "      <td>    45.895189</td>\n",
        "      <td>  1099.936493</td>\n",
        "      <td>     0.425810</td>\n",
        "      <td>     0.178649</td>\n",
        "      <td>     0.493560</td>\n",
        "      <td>     0.462176</td>\n",
        "      <td>     0.151424</td>\n",
        "      <td>     0.198768</td>\n",
        "      <td>     0.244091</td>\n",
        "      <td>     0.229454</td>\n",
        "      <td>     0.103896</td>\n",
        "      <td>...</td>\n",
        "    </tr>\n",
        "    <tr>\n",
        "      <th>min</th>\n",
        "      <td>     1.00000</td>\n",
        "      <td>  1863.000000</td>\n",
        "      <td>     0.000000</td>\n",
        "      <td>     0.000000</td>\n",
        "      <td>     0.000000</td>\n",
        "      <td>  -146.000000</td>\n",
        "      <td>     0.000000</td>\n",
        "      <td>     0.000000</td>\n",
        "      <td>    99.000000</td>\n",
        "      <td>     0.000000</td>\n",
        "      <td>     0.000000</td>\n",
        "      <td>     0.000000</td>\n",
        "      <td>     0.000000</td>\n",
        "      <td>     0.000000</td>\n",
        "      <td>     0.000000</td>\n",
        "      <td>     0.000000</td>\n",
        "      <td>     0.000000</td>\n",
        "      <td>     0.000000</td>\n",
        "      <td>     0.000000</td>\n",
        "      <td>     0.000000</td>\n",
        "      <td>...</td>\n",
        "    </tr>\n",
        "    <tr>\n",
        "      <th>25%</th>\n",
        "      <td>  3780.75000</td>\n",
        "      <td>  2376.000000</td>\n",
        "      <td>    65.000000</td>\n",
        "      <td>    10.000000</td>\n",
        "      <td>    67.000000</td>\n",
        "      <td>     5.000000</td>\n",
        "      <td>   764.000000</td>\n",
        "      <td>   196.000000</td>\n",
        "      <td>   207.000000</td>\n",
        "      <td>   106.000000</td>\n",
        "      <td>   730.000000</td>\n",
        "      <td>     0.000000</td>\n",
        "      <td>     0.000000</td>\n",
        "      <td>     0.000000</td>\n",
        "      <td>     0.000000</td>\n",
        "      <td>     0.000000</td>\n",
        "      <td>     0.000000</td>\n",
        "      <td>     0.000000</td>\n",
        "      <td>     0.000000</td>\n",
        "      <td>     0.000000</td>\n",
        "      <td>...</td>\n",
        "    </tr>\n",
        "    <tr>\n",
        "      <th>50%</th>\n",
        "      <td>  7560.50000</td>\n",
        "      <td>  2752.000000</td>\n",
        "      <td>   126.000000</td>\n",
        "      <td>    15.000000</td>\n",
        "      <td>   180.000000</td>\n",
        "      <td>    32.000000</td>\n",
        "      <td>  1316.000000</td>\n",
        "      <td>   220.000000</td>\n",
        "      <td>   223.000000</td>\n",
        "      <td>   138.000000</td>\n",
        "      <td>  1256.000000</td>\n",
        "      <td>     0.000000</td>\n",
        "      <td>     0.000000</td>\n",
        "      <td>     0.000000</td>\n",
        "      <td>     0.000000</td>\n",
        "      <td>     0.000000</td>\n",
        "      <td>     0.000000</td>\n",
        "      <td>     0.000000</td>\n",
        "      <td>     0.000000</td>\n",
        "      <td>     0.000000</td>\n",
        "      <td>...</td>\n",
        "    </tr>\n",
        "    <tr>\n",
        "      <th>75%</th>\n",
        "      <td> 11340.25000</td>\n",
        "      <td>  3104.000000</td>\n",
        "      <td>   261.000000</td>\n",
        "      <td>    22.000000</td>\n",
        "      <td>   330.000000</td>\n",
        "      <td>    79.000000</td>\n",
        "      <td>  2270.000000</td>\n",
        "      <td>   235.000000</td>\n",
        "      <td>   235.000000</td>\n",
        "      <td>   167.000000</td>\n",
        "      <td>  1988.250000</td>\n",
        "      <td>     0.000000</td>\n",
        "      <td>     0.000000</td>\n",
        "      <td>     1.000000</td>\n",
        "      <td>     1.000000</td>\n",
        "      <td>     0.000000</td>\n",
        "      <td>     0.000000</td>\n",
        "      <td>     0.000000</td>\n",
        "      <td>     0.000000</td>\n",
        "      <td>     0.000000</td>\n",
        "      <td>...</td>\n",
        "    </tr>\n",
        "    <tr>\n",
        "      <th>max</th>\n",
        "      <td> 15120.00000</td>\n",
        "      <td>  3849.000000</td>\n",
        "      <td>   360.000000</td>\n",
        "      <td>    52.000000</td>\n",
        "      <td>  1343.000000</td>\n",
        "      <td>   554.000000</td>\n",
        "      <td>  6890.000000</td>\n",
        "      <td>   254.000000</td>\n",
        "      <td>   254.000000</td>\n",
        "      <td>   248.000000</td>\n",
        "      <td>  6993.000000</td>\n",
        "      <td>     1.000000</td>\n",
        "      <td>     1.000000</td>\n",
        "      <td>     1.000000</td>\n",
        "      <td>     1.000000</td>\n",
        "      <td>     1.000000</td>\n",
        "      <td>     1.000000</td>\n",
        "      <td>     1.000000</td>\n",
        "      <td>     1.000000</td>\n",
        "      <td>     1.000000</td>\n",
        "      <td>...</td>\n",
        "    </tr>\n",
        "  </tbody>\n",
        "</table>\n",
        "<p>8 rows \u00d7 56 columns</p>\n",
        "</div>"
       ],
       "metadata": {},
       "output_type": "pyout",
       "prompt_number": 47,
       "text": [
        "                Id     Elevation        Aspect         Slope  \\\n",
        "count  15120.00000  15120.000000  15120.000000  15120.000000   \n",
        "mean    7560.50000   2749.322553    156.676653     16.501587   \n",
        "std     4364.91237    417.678187    110.085801      8.453927   \n",
        "min        1.00000   1863.000000      0.000000      0.000000   \n",
        "25%     3780.75000   2376.000000     65.000000     10.000000   \n",
        "50%     7560.50000   2752.000000    126.000000     15.000000   \n",
        "75%    11340.25000   3104.000000    261.000000     22.000000   \n",
        "max    15120.00000   3849.000000    360.000000     52.000000   \n",
        "\n",
        "       Horizontal_Distance_To_Hydrology  Vertical_Distance_To_Hydrology  \\\n",
        "count                      15120.000000                    15120.000000   \n",
        "mean                         227.195701                       51.076521   \n",
        "std                          210.075296                       61.239406   \n",
        "min                            0.000000                     -146.000000   \n",
        "25%                           67.000000                        5.000000   \n",
        "50%                          180.000000                       32.000000   \n",
        "75%                          330.000000                       79.000000   \n",
        "max                         1343.000000                      554.000000   \n",
        "\n",
        "       Horizontal_Distance_To_Roadways  Hillshade_9am  Hillshade_Noon  \\\n",
        "count                     15120.000000   15120.000000    15120.000000   \n",
        "mean                       1714.023214     212.704299      218.965608   \n",
        "std                        1325.066358      30.561287       22.801966   \n",
        "min                           0.000000       0.000000       99.000000   \n",
        "25%                         764.000000     196.000000      207.000000   \n",
        "50%                        1316.000000     220.000000      223.000000   \n",
        "75%                        2270.000000     235.000000      235.000000   \n",
        "max                        6890.000000     254.000000      254.000000   \n",
        "\n",
        "       Hillshade_3pm  Horizontal_Distance_To_Fire_Points  Wilderness_Area1  \\\n",
        "count   15120.000000                        15120.000000      15120.000000   \n",
        "mean      135.091997                         1511.147288          0.237897   \n",
        "std        45.895189                         1099.936493          0.425810   \n",
        "min         0.000000                            0.000000          0.000000   \n",
        "25%       106.000000                          730.000000          0.000000   \n",
        "50%       138.000000                         1256.000000          0.000000   \n",
        "75%       167.000000                         1988.250000          0.000000   \n",
        "max       248.000000                         6993.000000          1.000000   \n",
        "\n",
        "       Wilderness_Area2  Wilderness_Area3  Wilderness_Area4    Soil_Type1  \\\n",
        "count      15120.000000      15120.000000      15120.000000  15120.000000   \n",
        "mean           0.033003          0.419907          0.309193      0.023479   \n",
        "std            0.178649          0.493560          0.462176      0.151424   \n",
        "min            0.000000          0.000000          0.000000      0.000000   \n",
        "25%            0.000000          0.000000          0.000000      0.000000   \n",
        "50%            0.000000          0.000000          0.000000      0.000000   \n",
        "75%            0.000000          1.000000          1.000000      0.000000   \n",
        "max            1.000000          1.000000          1.000000      1.000000   \n",
        "\n",
        "         Soil_Type2    Soil_Type3    Soil_Type4    Soil_Type5      \n",
        "count  15120.000000  15120.000000  15120.000000  15120.000000 ...  \n",
        "mean       0.041204      0.063624      0.055754      0.010913 ...  \n",
        "std        0.198768      0.244091      0.229454      0.103896 ...  \n",
        "min        0.000000      0.000000      0.000000      0.000000 ...  \n",
        "25%        0.000000      0.000000      0.000000      0.000000 ...  \n",
        "50%        0.000000      0.000000      0.000000      0.000000 ...  \n",
        "75%        0.000000      0.000000      0.000000      0.000000 ...  \n",
        "max        1.000000      1.000000      1.000000      1.000000 ...  \n",
        "\n",
        "[8 rows x 56 columns]"
       ]
      }
     ],
     "prompt_number": 47
    },
    {
     "cell_type": "code",
     "collapsed": false,
     "input": [],
     "language": "python",
     "metadata": {},
     "outputs": []
    }
   ],
   "metadata": {}
  }
 ]
}